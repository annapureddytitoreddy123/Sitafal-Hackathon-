{
  "nbformat": 4,
  "nbformat_minor": 0,
  "metadata": {
    "colab": {
      "provenance": []
    },
    "kernelspec": {
      "name": "python3",
      "display_name": "Python 3"
    },
    "language_info": {
      "name": "python"
    }
  },
  "cells": [
    {
      "cell_type": "code",
      "source": [
        "pip install requests beautifulsoup4 sentence-transformers faiss-cpu transformers\n"
      ],
      "metadata": {
        "colab": {
          "base_uri": "https://localhost:8080/"
        },
        "id": "v7vCmx6nGTp4",
        "outputId": "621ef598-bca1-4faa-cc4d-f2fdf93b167f"
      },
      "execution_count": 1,
      "outputs": [
        {
          "output_type": "stream",
          "name": "stdout",
          "text": [
            "Requirement already satisfied: requests in /usr/local/lib/python3.10/dist-packages (2.32.3)\n",
            "Requirement already satisfied: beautifulsoup4 in /usr/local/lib/python3.10/dist-packages (4.12.3)\n",
            "Requirement already satisfied: sentence-transformers in /usr/local/lib/python3.10/dist-packages (3.2.1)\n",
            "Collecting faiss-cpu\n",
            "  Downloading faiss_cpu-1.9.0.post1-cp310-cp310-manylinux_2_17_x86_64.manylinux2014_x86_64.whl.metadata (4.4 kB)\n",
            "Requirement already satisfied: transformers in /usr/local/lib/python3.10/dist-packages (4.46.3)\n",
            "Requirement already satisfied: charset-normalizer<4,>=2 in /usr/local/lib/python3.10/dist-packages (from requests) (3.4.0)\n",
            "Requirement already satisfied: idna<4,>=2.5 in /usr/local/lib/python3.10/dist-packages (from requests) (3.10)\n",
            "Requirement already satisfied: urllib3<3,>=1.21.1 in /usr/local/lib/python3.10/dist-packages (from requests) (2.2.3)\n",
            "Requirement already satisfied: certifi>=2017.4.17 in /usr/local/lib/python3.10/dist-packages (from requests) (2024.8.30)\n",
            "Requirement already satisfied: soupsieve>1.2 in /usr/local/lib/python3.10/dist-packages (from beautifulsoup4) (2.6)\n",
            "Requirement already satisfied: tqdm in /usr/local/lib/python3.10/dist-packages (from sentence-transformers) (4.66.6)\n",
            "Requirement already satisfied: torch>=1.11.0 in /usr/local/lib/python3.10/dist-packages (from sentence-transformers) (2.5.1+cu121)\n",
            "Requirement already satisfied: scikit-learn in /usr/local/lib/python3.10/dist-packages (from sentence-transformers) (1.5.2)\n",
            "Requirement already satisfied: scipy in /usr/local/lib/python3.10/dist-packages (from sentence-transformers) (1.13.1)\n",
            "Requirement already satisfied: huggingface-hub>=0.20.0 in /usr/local/lib/python3.10/dist-packages (from sentence-transformers) (0.26.5)\n",
            "Requirement already satisfied: Pillow in /usr/local/lib/python3.10/dist-packages (from sentence-transformers) (11.0.0)\n",
            "Requirement already satisfied: numpy<3.0,>=1.25.0 in /usr/local/lib/python3.10/dist-packages (from faiss-cpu) (1.26.4)\n",
            "Requirement already satisfied: packaging in /usr/local/lib/python3.10/dist-packages (from faiss-cpu) (24.2)\n",
            "Requirement already satisfied: filelock in /usr/local/lib/python3.10/dist-packages (from transformers) (3.16.1)\n",
            "Requirement already satisfied: pyyaml>=5.1 in /usr/local/lib/python3.10/dist-packages (from transformers) (6.0.2)\n",
            "Requirement already satisfied: regex!=2019.12.17 in /usr/local/lib/python3.10/dist-packages (from transformers) (2024.9.11)\n",
            "Requirement already satisfied: tokenizers<0.21,>=0.20 in /usr/local/lib/python3.10/dist-packages (from transformers) (0.20.3)\n",
            "Requirement already satisfied: safetensors>=0.4.1 in /usr/local/lib/python3.10/dist-packages (from transformers) (0.4.5)\n",
            "Requirement already satisfied: fsspec>=2023.5.0 in /usr/local/lib/python3.10/dist-packages (from huggingface-hub>=0.20.0->sentence-transformers) (2024.10.0)\n",
            "Requirement already satisfied: typing-extensions>=3.7.4.3 in /usr/local/lib/python3.10/dist-packages (from huggingface-hub>=0.20.0->sentence-transformers) (4.12.2)\n",
            "Requirement already satisfied: networkx in /usr/local/lib/python3.10/dist-packages (from torch>=1.11.0->sentence-transformers) (3.4.2)\n",
            "Requirement already satisfied: jinja2 in /usr/local/lib/python3.10/dist-packages (from torch>=1.11.0->sentence-transformers) (3.1.4)\n",
            "Requirement already satisfied: sympy==1.13.1 in /usr/local/lib/python3.10/dist-packages (from torch>=1.11.0->sentence-transformers) (1.13.1)\n",
            "Requirement already satisfied: mpmath<1.4,>=1.1.0 in /usr/local/lib/python3.10/dist-packages (from sympy==1.13.1->torch>=1.11.0->sentence-transformers) (1.3.0)\n",
            "Requirement already satisfied: joblib>=1.2.0 in /usr/local/lib/python3.10/dist-packages (from scikit-learn->sentence-transformers) (1.4.2)\n",
            "Requirement already satisfied: threadpoolctl>=3.1.0 in /usr/local/lib/python3.10/dist-packages (from scikit-learn->sentence-transformers) (3.5.0)\n",
            "Requirement already satisfied: MarkupSafe>=2.0 in /usr/local/lib/python3.10/dist-packages (from jinja2->torch>=1.11.0->sentence-transformers) (3.0.2)\n",
            "Downloading faiss_cpu-1.9.0.post1-cp310-cp310-manylinux_2_17_x86_64.manylinux2014_x86_64.whl (27.5 MB)\n",
            "\u001b[2K   \u001b[90m━━━━━━━━━━━━━━━━━━━━━━━━━━━━━━━━━━━━━━━━\u001b[0m \u001b[32m27.5/27.5 MB\u001b[0m \u001b[31m58.3 MB/s\u001b[0m eta \u001b[36m0:00:00\u001b[0m\n",
            "\u001b[?25hInstalling collected packages: faiss-cpu\n",
            "Successfully installed faiss-cpu-1.9.0.post1\n"
          ]
        }
      ]
    },
    {
      "cell_type": "code",
      "source": [
        "import requests\n",
        "from bs4 import BeautifulSoup\n",
        "from sentence_transformers import SentenceTransformer\n",
        "import faiss\n",
        "from transformers import pipeline\n",
        "\n",
        "class RAGPipeline:\n",
        "    def __init__(self, embedding_model_name='all-MiniLM-L6-v2'):\n",
        "        self.embedding_model = SentenceTransformer(embedding_model_name)\n",
        "        self.vector_dim = self.embedding_model.get_sentence_embedding_dimension()\n",
        "        self.index = faiss.IndexFlatL2(self.vector_dim)  # FAISS index\n",
        "        self.metadata = []  # Stores metadata for each embedding\n",
        "        self.qa_model = pipeline(\"text2text-generation\", model=\"google/flan-t5-base\")\n",
        "\n",
        "    def crawl_and_scrape(self, url):\n",
        "        \"\"\"Crawls and scrapes content from a given URL.\"\"\"\n",
        "        response = requests.get(url)\n",
        "        if response.status_code != 200:\n",
        "            print(f\"Failed to fetch {url}\")\n",
        "            return []\n",
        "\n",
        "        soup = BeautifulSoup(response.text, 'html.parser')\n",
        "        text_segments = [p.get_text() for p in soup.find_all('p')]\n",
        "        return text_segments\n",
        "\n",
        "    def preprocess_and_store(self, text_segments, url):\n",
        "        \"\"\"Preprocess text, generate embeddings, and store in FAISS index.\"\"\"\n",
        "        for segment in text_segments:\n",
        "            embedding = self.embedding_model.encode(segment, convert_to_tensor=False)\n",
        "            self.index.add(embedding.reshape(1, -1))\n",
        "            self.metadata.append({'url': url, 'text': segment})\n",
        "\n",
        "    def query(self, user_question):\n",
        "        \"\"\"Handle user query by retrieving relevant chunks and generating a response.\"\"\"\n",
        "        # Generate query embedding\n",
        "        query_embedding = self.embedding_model.encode(user_question, convert_to_tensor=False)\n",
        "\n",
        "        # Retrieve top-k similar chunks\n",
        "        k = 5\n",
        "        distances, indices = self.index.search(query_embedding.reshape(1, -1), k)\n",
        "\n",
        "        # Compile relevant chunks\n",
        "        retrieved_chunks = [self.metadata[idx]['text'] for idx in indices[0]]\n",
        "        context = \"\\n\".join(retrieved_chunks)\n",
        "\n",
        "        # Generate response using LLM\n",
        "        prompt = f\"Context: {context}\\n\\nQuestion: {user_question}\\nAnswer:\"\n",
        "        response = self.qa_model(prompt, max_length=200, do_sample=False)[0]['generated_text']\n",
        "\n",
        "        return response\n",
        "\n",
        "\n"
      ],
      "metadata": {
        "id": "q4wW0CsEGXw8"
      },
      "execution_count": 4,
      "outputs": []
    },
    {
      "cell_type": "code",
      "source": [
        "# Usage example\n",
        "if __name__ == \"__main__\":\n",
        "    rag = RAGPipeline()\n",
        "\n",
        "    # Step 1: Crawl and scrape a sample website\n",
        "    website_url = \"https://www.blogger.com/about/?bpli=1\"\n",
        "    scraped_text = rag.crawl_and_scrape(website_url)\n",
        "\n",
        "    # Step 2: Preprocess and store data\n",
        "    rag.preprocess_and_store(scraped_text, website_url)\n",
        "\n",
        "    # Step 3: Handle user query\n",
        "    user_query = \"What is the main topic of the website?\"\n",
        "    answer = rag.query(user_query)\n",
        "    print(\"Response:\", answer)"
      ],
      "metadata": {
        "colab": {
          "base_uri": "https://localhost:8080/"
        },
        "id": "lb_h0irsJhgv",
        "outputId": "fd51ac14-e762-496f-d252-de5f43b1205d"
      },
      "execution_count": 6,
      "outputs": [
        {
          "output_type": "stream",
          "name": "stdout",
          "text": [
            "Response: Blogger\n"
          ]
        }
      ]
    }
  ]
}